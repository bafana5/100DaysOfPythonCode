{
  "nbformat": 4,
  "nbformat_minor": 0,
  "metadata": {
    "colab": {
      "provenance": [],
      "authorship_tag": "ABX9TyOaAJS89B0ZufGSWmMeQHKq",
      "include_colab_link": true
    },
    "kernelspec": {
      "name": "python3",
      "display_name": "Python 3"
    },
    "language_info": {
      "name": "python"
    }
  },
  "cells": [
    {
      "cell_type": "markdown",
      "metadata": {
        "id": "view-in-github",
        "colab_type": "text"
      },
      "source": [
        "<a href=\"https://colab.research.google.com/github/bafana5/100DaysOfPythonCode/blob/master/adventofcode.ipynb\" target=\"_parent\"><img src=\"https://colab.research.google.com/assets/colab-badge.svg\" alt=\"Open In Colab\"/></a>"
      ]
    },
    {
      "cell_type": "markdown",
      "source": [
        "## --- Day 1: Calorie Counting ---\n",
        "\n",
        "Santa's reindeer typically eat regular reindeer food, but they need a lot of magical energy to deliver presents on Christmas. For that, their favorite snack is a special type of star fruit that only grows deep in the jungle. The Elves have brought you on their annual expedition to the grove where the fruit grows.\n",
        "\n",
        "To supply enough magical energy, the expedition needs to retrieve a minimum of fifty stars by December 25th. Although the Elves assure you that the grove has plenty of fruit, you decide to grab any fruit you see along the way, just in case.\n",
        "\n",
        "Collect stars by solving puzzles. Two puzzles will be made available on each day in the Advent calendar; the second puzzle is unlocked when you complete the first. Each puzzle grants one star. Good luck!\n",
        "\n",
        "The jungle must be too overgrown and difficult to navigate in vehicles or access from the air; the Elves' expedition traditionally goes on foot. As your boats approach land, the Elves begin taking inventory of their supplies. One important consideration is food - in particular, the number of Calories each Elf is carrying (your puzzle input).\n",
        "\n",
        "The Elves take turns writing down the number of Calories contained by the various meals, snacks, rations, etc. that they've brought with them, one item per line. Each Elf separates their own inventory from the previous Elf's inventory (if any) by a blank line.\n",
        "\n",
        "For example, suppose the Elves finish writing their items' Calories and end up with the following list:\n",
        "\n",
        "1000 <br>\n",
        "2000 <br>\n",
        "3000\n",
        "\n",
        "4000\n",
        "\n",
        "5000 <br>\n",
        "6000\n",
        "\n",
        "7000<br>\n",
        "8000<br>\n",
        "9000\n",
        "\n",
        "10000 <br>\n",
        "This list represents the Calories of the food carried by five Elves:\n",
        "\n",
        "The first Elf is carrying food with 1000, 2000, and 3000 Calories, a total of 6000 Calories.\n",
        "The second Elf is carrying one food item with 4000 Calories.\n",
        "The third Elf is carrying food with 5000 and 6000 Calories, a total of 11000 Calories.\n",
        "The fourth Elf is carrying food with 7000, 8000, and 9000 Calories, a total of 24000 Calories.\n",
        "The fifth Elf is carrying one food item with 10000 Calories.\n",
        "In case the Elves get hungry and need extra snacks, they need to know which Elf to ask: they'd like to know how many Calories are being carried by the Elf carrying the most Calories. In the example above, this is 24000 (carried by the fourth Elf).\n",
        "\n",
        "Find the Elf carrying the most Calories. How many total Calories is that Elf carrying?\n",
        "\n"
      ],
      "metadata": {
        "id": "Za0c-AQqW-j0"
      }
    },
    {
      "cell_type": "markdown",
      "source": [
        "##### Day 1 Code"
      ],
      "metadata": {
        "id": "esz1v4o1XIeL"
      }
    },
    {
      "cell_type": "code",
      "execution_count": 1,
      "metadata": {
        "id": "x0-6as-nWpM1"
      },
      "outputs": [],
      "source": [
        "from pathlib import Path"
      ]
    },
    {
      "cell_type": "code",
      "source": [
        "with open(Path(\"input.txt\").resolve()) as f:\n",
        "    lines = [line.strip() for line in f]"
      ],
      "metadata": {
        "id": "rrQDPPF9ZEsn"
      },
      "execution_count": 20,
      "outputs": []
    },
    {
      "cell_type": "code",
      "source": [
        "lines[:15]"
      ],
      "metadata": {
        "colab": {
          "base_uri": "https://localhost:8080/"
        },
        "id": "jYcBxWt0ZXvw",
        "outputId": "c2d67d9c-a2f1-4c14-aa4e-fb3f3986cf0f"
      },
      "execution_count": 34,
      "outputs": [
        {
          "output_type": "execute_result",
          "data": {
            "text/plain": [
              "['2832',\n",
              " '2108',\n",
              " '3082',\n",
              " '4328',\n",
              " '6843',\n",
              " '5121',\n",
              " '2869',\n",
              " '1366',\n",
              " '2358',\n",
              " '1680',\n",
              " '4980',\n",
              " '1161',\n",
              " '',\n",
              " '8026',\n",
              " '2154']"
            ]
          },
          "metadata": {},
          "execution_count": 34
        }
      ]
    },
    {
      "cell_type": "code",
      "source": [
        "totals = []\n",
        "sum = 0\n",
        "for num in lines:\n",
        "  if num:\n",
        "    sum +=int(num)\n",
        "  else:\n",
        "    totals.append(sum)\n",
        "    sum = 0"
      ],
      "metadata": {
        "id": "N3mnLC08ZZPL"
      },
      "execution_count": 30,
      "outputs": []
    },
    {
      "cell_type": "code",
      "source": [
        "totals[:15]"
      ],
      "metadata": {
        "colab": {
          "base_uri": "https://localhost:8080/"
        },
        "id": "i5AbkrCVgzwC",
        "outputId": "7ecdd951-79d8-4836-b11f-adacf15a9753"
      },
      "execution_count": 35,
      "outputs": [
        {
          "output_type": "execute_result",
          "data": {
            "text/plain": [
              "[38728,\n",
              " 40386,\n",
              " 55708,\n",
              " 51767,\n",
              " 34296,\n",
              " 41377,\n",
              " 64434,\n",
              " 53503,\n",
              " 40206,\n",
              " 44711,\n",
              " 67622,\n",
              " 53072,\n",
              " 48937,\n",
              " 39592,\n",
              " 36657]"
            ]
          },
          "metadata": {},
          "execution_count": 35
        }
      ]
    },
    {
      "cell_type": "code",
      "source": [
        "max(totals) #67622"
      ],
      "metadata": {
        "colab": {
          "base_uri": "https://localhost:8080/"
        },
        "id": "lmIIJ-3keU7F",
        "outputId": "a69fd7b3-8aae-4ec4-af28-28a85aa1a148"
      },
      "execution_count": 32,
      "outputs": [
        {
          "output_type": "execute_result",
          "data": {
            "text/plain": [
              "67622"
            ]
          },
          "metadata": {},
          "execution_count": 32
        }
      ]
    },
    {
      "cell_type": "markdown",
      "source": [
        "## --- Day 2: Rock Paper Scissors ---\n",
        "The Elves begin to set up camp on the beach. To decide whose tent gets to be closest to the snack storage, a giant Rock Paper Scissors tournament is already in progress.\n",
        "\n",
        "Rock Paper Scissors is a game between two players. Each game contains many rounds; in each round, the players each simultaneously choose one of Rock, Paper, or Scissors using a hand shape. Then, a winner for that round is selected: Rock defeats Scissors, Scissors defeats Paper, and Paper defeats Rock. If both players choose the same shape, the round instead ends in a draw.\n",
        "\n",
        "Appreciative of your help yesterday, one Elf gives you an encrypted strategy guide (your puzzle input) that they say will be sure to help you win. \"The first column is what your opponent is going to play: A for Rock, B for Paper, and C for Scissors. The second column--\" Suddenly, the Elf is called away to help with someone's tent.\n",
        "\n",
        "The second column, you reason, must be what you should play in response: X for Rock, Y for Paper, and Z for Scissors. Winning every time would be suspicious, so the responses must have been carefully chosen.\n",
        "\n",
        "The winner of the whole tournament is the player with the highest score. Your total score is the sum of your scores for each round. The score for a single round is the score for the shape you selected (1 for Rock, 2 for Paper, and 3 for Scissors) plus the score for the outcome of the round (0 if you lost, 3 if the round was a draw, and 6 if you won).\n",
        "\n",
        "Since you can't be sure if the Elf is trying to help you or trick you, you should calculate the score you would get if you were to follow the strategy guide.\n",
        "\n",
        "For example, suppose you were given the following strategy guide:\n",
        "\n",
        "A Y <br>\n",
        "B X <br>\n",
        "C Z <br>\n",
        "This strategy guide predicts and recommends the following:\n",
        "\n",
        "In the first round, your opponent will choose Rock (A), and you should choose Paper (Y). This ends in a win for you with a score of 8 (2 because you chose Paper + 6 because you won).\n",
        "In the second round, your opponent will choose Paper (B), and you should choose Rock (X). This ends in a loss for you with a score of 1 (1 + 0).\n",
        "The third round is a draw with both players choosing Scissors, giving you a score of 3 + 3 = 6.\n",
        "In this example, if you were to follow the strategy guide, you would get a total score of 15 (8 + 1 + 6).\n",
        "\n",
        "What would your total score be if everything goes exactly according to your strategy guide?"
      ],
      "metadata": {
        "id": "pSRVdN_5iqgm"
      }
    },
    {
      "cell_type": "code",
      "source": [],
      "metadata": {
        "id": "CC9a04PceXpR"
      },
      "execution_count": null,
      "outputs": []
    }
  ]
}